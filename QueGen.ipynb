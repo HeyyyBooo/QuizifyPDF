{
  "nbformat": 4,
  "nbformat_minor": 0,
  "metadata": {
    "colab": {
      "provenance": []
    },
    "kernelspec": {
      "name": "python3",
      "display_name": "Python 3"
    },
    "language_info": {
      "name": "python"
    }
  },
  "cells": [
    {
      "cell_type": "code",
      "execution_count": 10,
      "metadata": {
        "id": "5P3eIo_6yIt9"
      },
      "outputs": [],
      "source": [
        "#QueGen"
      ]
    },
    {
      "cell_type": "code",
      "source": [
        "import spacy\n",
        "import random\n",
        "from collections import Counter"
      ],
      "metadata": {
        "id": "kWQQHZyKyYwL"
      },
      "execution_count": 1,
      "outputs": []
    },
    {
      "cell_type": "code",
      "source": [
        "# input text\n",
        "text = \"\"\"\n",
        "The Greek historian knew what he was talking about. The Nile River fed Egyptian civilization for hundreds of years.\n",
        "The Longest River the Nile is 4,160 miles long—the world’s longest river. It begins near the equator in Africa and\n",
        "flows north to the Mediterranean Sea. In the south the Nile churns with cataracts. A cataract is a waterfall. Near the\n",
        "sea the Nile branches into a delta. A delta is an area near a river’s mouth where the water deposits fine soil called silt.\n",
        "In the delta, the Nile divides into many streams. The river is called the upper Nile in the south and the lower Nile in the\n",
        "north. For centuries, heavy rains in Ethiopia caused the Nile to flood every summer. The floods deposited rich soil along the\n",
        "Nile’s shores. This soil was fertile, which means it was good for growing crops. Unlike the Tigris and Euphrates,\n",
        "the Nile River flooded at the same time every year, so farmers could predict when to plant their crops.\n",
        "\"\"\"\n",
        "\n",
        "num_questions = 5"
      ],
      "metadata": {
        "id": "XjRLarWRyjA8"
      },
      "execution_count": 2,
      "outputs": []
    },
    {
      "cell_type": "code",
      "source": [
        "nlp = spacy.load('en_core_web_sm')\n",
        "# Process the text with spaCy\n",
        "doc = nlp(text)\n",
        "\n",
        "# Extract sentences from the text\n",
        "sentences = [sent.text for sent in doc.sents]\n",
        "\n",
        "# Randomly select sentences to form questions\n",
        "selected_sentences = random.sample(sentences, min(num_questions, len(sentences)))"
      ],
      "metadata": {
        "id": "mKkuT5pUykqk"
      },
      "execution_count": 3,
      "outputs": []
    },
    {
      "cell_type": "code",
      "source": [
        "import spacy\n",
        "from collections import Counter\n",
        "import random\n",
        "\n",
        "# Load English tokenizer, tagger, parser, NER, and word vectors\n",
        "nlp = spacy.load(\"en_core_web_sm\")\n",
        "\n",
        "def generate_mcqs(text, num_questions=5):\n",
        "    # Process the text with spaCy\n",
        "    doc = nlp(text)\n",
        "\n",
        "    # Extract sentences from the text\n",
        "    sentences = [sent.text for sent in doc.sents]\n",
        "\n",
        "    # Randomly select sentences to form questions\n",
        "    selected_sentences = random.sample(sentences, min(num_questions, len(sentences)))\n",
        "\n",
        "    # Initialize list to store generated MCQs\n",
        "    mcqs = []\n",
        "\n",
        "    # Generate MCQs for each selected sentence\n",
        "    for sentence in selected_sentences:\n",
        "        # Process the sentence with spaCy\n",
        "        sent_doc = nlp(sentence)\n",
        "\n",
        "        # Extract entities (nouns) from the sentence\n",
        "        nouns = [token.text for token in sent_doc if token.pos_ == \"NOUN\"]\n",
        "\n",
        "        # Ensure there are enough nouns to generate MCQs\n",
        "        if len(nouns) < 2:\n",
        "            continue\n",
        "\n",
        "        # Count the occurrence of each noun\n",
        "        noun_counts = Counter(nouns)\n",
        "\n",
        "        # Select the most common noun as the subject of the question\n",
        "        if noun_counts:\n",
        "            subject = noun_counts.most_common(1)[0][0]\n",
        "\n",
        "            # Generate the question stem\n",
        "            question_stem = sentence.replace(subject, \"_______\")\n",
        "\n",
        "            # Generate answer choices\n",
        "            answer_choices = [subject]\n",
        "\n",
        "            # Add some random words from the text as distractors\n",
        "            for _ in range(3):\n",
        "                distractor = random.choice(list(set(nouns) - set([subject])))\n",
        "                answer_choices.append(distractor)\n",
        "\n",
        "            # Shuffle the answer choices\n",
        "            random.shuffle(answer_choices)\n",
        "\n",
        "            # Append the generated MCQ to the list\n",
        "            correct_answer = chr(64 + answer_choices.index(subject) + 1)  # Convert index to letter\n",
        "            mcqs.append((question_stem, answer_choices, correct_answer))\n",
        "\n",
        "    return mcqs"
      ],
      "metadata": {
        "id": "lg4XGv-Eyowz"
      },
      "execution_count": 4,
      "outputs": []
    },
    {
      "cell_type": "code",
      "source": [],
      "metadata": {
        "id": "t_9I4wXM20Dr"
      },
      "execution_count": null,
      "outputs": []
    },
    {
      "cell_type": "code",
      "source": [
        "# Test the function with the provided text\n",
        "text = \"\"\"\n",
        "The Greek historian knew what he was talking about. The Nile River fed Egyptian civilization for hundreds of years. The Longest River the Nile is 4,160 miles long—the world’s longest river. It begins near the equator in Africa and flows north to the Mediterranean Sea. In the south the Nile churns with cataracts. A cataract is a waterfall. Near the sea the Nile branches into a delta. A delta is an area near a river’s mouth where the water deposits fine soil called silt. In the delta, the Nile divides into many streams. The river is called the upper Nile in the south and the lower Nile in the north. For centuries, heavy rains in Ethiopia caused the Nile to flood every summer. The floods deposited rich soil along the Nile’s shores. This soil was fertile, which means it was good for growing crops. Unlike the Tigris and Euphrates, the Nile River flooded at the same time every year, so farmers could predict when to plant their crops.\n",
        "\"\"\"\n",
        "\n",
        "results = generate_mcqs(text, num_questions=7)\n",
        "\n",
        "\n",
        "for i, mcq in enumerate(results,start=1):\n",
        "    question_stem, answer_choices, correct_answer = mcq\n",
        "\n",
        "    print(f\"Q{i}: {question_stem}\")\n",
        "    for j, choice  in enumerate(answer_choices, start=1):\n",
        "        print(f\"{chr(64+j)}: {choice}\")\n",
        "    print(f\"Correct Answer: {correct_answer}\")"
      ],
      "metadata": {
        "colab": {
          "base_uri": "https://localhost:8080/"
        },
        "id": "C9WE2Y_qy5dh",
        "outputId": "6fcaee68-134e-4f2a-ffd8-8257a0b85c3e"
      },
      "execution_count": 5,
      "outputs": [
        {
          "output_type": "stream",
          "name": "stdout",
          "text": [
            "Q1: The _______ is called the upper Nile in the south and the lower Nile in the north.\n",
            "A: river\n",
            "B: south\n",
            "C: south\n",
            "D: south\n",
            "Correct Answer: A\n",
            "Q2: This _______ was fertile, which means it was good for growing crops.\n",
            "A: soil\n",
            "B: crops\n",
            "C: crops\n",
            "D: crops\n",
            "Correct Answer: A\n",
            "Q3: In the _______ the Nile churns with cataracts.\n",
            "A: cataracts\n",
            "B: cataracts\n",
            "C: south\n",
            "D: cataracts\n",
            "Correct Answer: C\n",
            "Q4: The Nile River fed Egyptian _______ for hundreds of years.\n",
            "A: years\n",
            "B: years\n",
            "C: hundreds\n",
            "D: civilization\n",
            "Correct Answer: D\n",
            "Q5: The Longest River the Nile is 4,160 _______ long—the world’s longest river.\n",
            "A: river\n",
            "B: miles\n",
            "C: world\n",
            "D: river\n",
            "Correct Answer: B\n",
            "Q6: A _______ is an area near a river’s mouth where the water deposits fine soil called silt.\n",
            "A: delta\n",
            "B: water\n",
            "C: water\n",
            "D: mouth\n",
            "Correct Answer: A\n",
            "Q7: Unlike the Tigris and Euphrates, the Nile River flooded at the same _______ every year, so farmers could predict when to plant their crops.\n",
            "\n",
            "A: time\n",
            "B: crops\n",
            "C: farmers\n",
            "D: crops\n",
            "Correct Answer: A\n"
          ]
        }
      ]
    },
    {
      "cell_type": "code",
      "source": [],
      "metadata": {
        "id": "b2NLB-yu29K-"
      },
      "execution_count": 10,
      "outputs": []
    },
    {
      "cell_type": "code",
      "source": [
        "import joblib\n",
        "joblib.dump(generate_mcqs, \"GenQue.pkl\")"
      ],
      "metadata": {
        "colab": {
          "base_uri": "https://localhost:8080/"
        },
        "id": "ukgul4GQ2_1b",
        "outputId": "2d496ca0-1e85-4d77-cb0c-3e00d0414b5a"
      },
      "execution_count": 11,
      "outputs": [
        {
          "output_type": "execute_result",
          "data": {
            "text/plain": [
              "['GenQue.pkl']"
            ]
          },
          "metadata": {},
          "execution_count": 11
        }
      ]
    }
  ]
}